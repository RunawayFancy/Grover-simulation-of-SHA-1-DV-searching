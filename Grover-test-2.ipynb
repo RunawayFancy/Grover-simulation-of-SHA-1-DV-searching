{
 "cells": [
  {
   "cell_type": "code",
   "execution_count": 85,
   "id": "d383a09f",
   "metadata": {},
   "outputs": [],
   "source": [
    "from qutip import *\n",
    "from numpy import pi\n",
    "import numpy as np\n",
    "import matplotlib.pyplot as plt\n",
    "%matplotlib inline"
   ]
  },
  {
   "cell_type": "code",
   "execution_count": 86,
   "id": "6fe82d8d",
   "metadata": {},
   "outputs": [],
   "source": [
    "sta_1 = Qobj([[1],[0],[0],[0]])\n",
    "sta_2 = Qobj([[0],[1],[0],[0]])\n",
    "sta_3 = Qobj([[0],[0],[1],[0]])\n",
    "sta_4 = Qobj([[0],[0],[0],[1]])"
   ]
  },
  {
   "cell_type": "code",
   "execution_count": 87,
   "id": "3c1b3768",
   "metadata": {},
   "outputs": [],
   "source": [
    "s_1 = Qobj([[1],[0]])\n",
    "s_2 = Qobj([[0],[1]])"
   ]
  },
  {
   "cell_type": "code",
   "execution_count": 88,
   "id": "d8edf9fd",
   "metadata": {},
   "outputs": [
    {
     "data": {
      "text/plain": [
       "0j"
      ]
     },
     "execution_count": 88,
     "metadata": {},
     "output_type": "execute_result"
    }
   ],
   "source": [
    "N = 1/np.sqrt(8)\n",
    "N1 = 1/np.sqrt(2)\n",
    "N2 = 1/2\n",
    "z = complex(0,0*np.pi)\n",
    "z"
   ]
  },
  {
   "cell_type": "code",
   "execution_count": 89,
   "id": "f42b3697",
   "metadata": {},
   "outputs": [
    {
     "data": {
      "text/plain": [
       "(1+0j)"
      ]
     },
     "execution_count": 89,
     "metadata": {},
     "output_type": "execute_result"
    }
   ],
   "source": [
    "phase = np.exp(z)\n",
    "phase"
   ]
  },
  {
   "cell_type": "code",
   "execution_count": 90,
   "id": "653c27f1",
   "metadata": {},
   "outputs": [
    {
     "data": {
      "text/latex": [
       "Quantum object: dims = [[2], [1]], shape = (2, 1), type = ket\\begin{equation*}\\left(\\begin{array}{*{11}c}0.707\\\\0.707\\\\\\end{array}\\right)\\end{equation*}"
      ],
      "text/plain": [
       "Quantum object: dims = [[2], [1]], shape = (2, 1), type = ket\n",
       "Qobj data =\n",
       "[[0.70710678]\n",
       " [0.70710678]]"
      ]
     },
     "execution_count": 90,
     "metadata": {},
     "output_type": "execute_result"
    }
   ],
   "source": [
    "#after applying the phase gate\n",
    "\n",
    "st_1 =N*phase *tensor(s_1,sta_1)\n",
    "st_2 =N*phase *tensor(s_2,sta_1)\n",
    "st_3 =N* tensor(s_1,sta_2)\n",
    "st_4 =N* tensor(s_2,sta_2)\n",
    "st_5 =N* tensor(s_1,sta_3)\n",
    "st_6 =N* tensor(s_2,sta_3)\n",
    "st_7 =N* tensor(s_1,sta_4)\n",
    "st_8 =N* tensor(s_2,sta_4)\n",
    "R_1 = N1 *(s_1 + s_2)\n",
    "R_1"
   ]
  },
  {
   "cell_type": "code",
   "execution_count": 91,
   "id": "71fe1c4e",
   "metadata": {},
   "outputs": [],
   "source": [
    "#no more phase gate, the original grover's states construction\n",
    "\n",
    "# st_1 =N* tensor(s_1,sta_1)\n",
    "# st_2 =N* tensor(s_2,sta_1)\n",
    "# st_3 =N* tensor(s_1,sta_2)\n",
    "# st_4 =N* tensor(s_2,sta_2)\n",
    "# st_5 =N* tensor(s_1,sta_3)\n",
    "# st_6 =N* tensor(s_2,sta_3)\n",
    "# st_7 =N* tensor(s_1,sta_4)\n",
    "# st_8 =N* tensor(s_2,sta_4)\n",
    "# R_1 = N1 *(s_1 + s_2)\n",
    "# R_1"
   ]
  },
  {
   "cell_type": "code",
   "execution_count": 92,
   "id": "75a90d9f",
   "metadata": {
    "scrolled": false
   },
   "outputs": [
    {
     "data": {
      "text/latex": [
       "Quantum object: dims = [[4], [1]], shape = (4, 1), type = ket\\begin{equation*}\\left(\\begin{array}{*{11}c}0.500\\\\0.500\\\\0.500\\\\0.500\\\\\\end{array}\\right)\\end{equation*}"
      ],
      "text/plain": [
       "Quantum object: dims = [[4], [1]], shape = (4, 1), type = ket\n",
       "Qobj data =\n",
       "[[0.5]\n",
       " [0.5]\n",
       " [0.5]\n",
       " [0.5]]"
      ]
     },
     "execution_count": 92,
     "metadata": {},
     "output_type": "execute_result"
    }
   ],
   "source": [
    "s = N2*(sta_1+sta_2+sta_3+sta_4)\n",
    "s"
   ]
  },
  {
   "cell_type": "code",
   "execution_count": 93,
   "id": "1cf77c44",
   "metadata": {},
   "outputs": [
    {
     "data": {
      "text/latex": [
       "Quantum object: dims = [[2, 4], [1, 1]], shape = (8, 1), type = ket\\begin{equation*}\\left(\\begin{array}{*{11}c}0.354\\\\0.354\\\\0.354\\\\0.354\\\\0.354\\\\0.354\\\\0.354\\\\0.354\\\\\\end{array}\\right)\\end{equation*}"
      ],
      "text/plain": [
       "Quantum object: dims = [[2, 4], [1, 1]], shape = (8, 1), type = ket\n",
       "Qobj data =\n",
       "[[0.35355339]\n",
       " [0.35355339]\n",
       " [0.35355339]\n",
       " [0.35355339]\n",
       " [0.35355339]\n",
       " [0.35355339]\n",
       " [0.35355339]\n",
       " [0.35355339]]"
      ]
     },
     "execution_count": 93,
     "metadata": {},
     "output_type": "execute_result"
    }
   ],
   "source": [
    "#s_t = tensor(R_1,s)\n",
    "s_t = st_1+st_2+st_3+st_4+st_5+st_6+st_7+st_8\n",
    "s_t"
   ]
  },
  {
   "cell_type": "code",
   "execution_count": 94,
   "id": "8da7daa0",
   "metadata": {
    "scrolled": true
   },
   "outputs": [
    {
     "data": {
      "text/latex": [
       "Quantum object: dims = [[4], [4]], shape = (4, 4), type = oper, isherm = True\\begin{equation*}\\left(\\begin{array}{*{11}c}-1.0 & 0.0 & 0.0 & 0.0\\\\0.0 & 1.0 & 0.0 & 0.0\\\\0.0 & 0.0 & 1.0 & 0.0\\\\0.0 & 0.0 & 0.0 & 1.0\\\\\\end{array}\\right)\\end{equation*}"
      ],
      "text/plain": [
       "Quantum object: dims = [[4], [4]], shape = (4, 4), type = oper, isherm = True\n",
       "Qobj data =\n",
       "[[-1.  0.  0.  0.]\n",
       " [ 0.  1.  0.  0.]\n",
       " [ 0.  0.  1.  0.]\n",
       " [ 0.  0.  0.  1.]]"
      ]
     },
     "execution_count": 94,
     "metadata": {},
     "output_type": "execute_result"
    }
   ],
   "source": [
    "#searching 00 in R2\n",
    "\n",
    "U_w = Qobj([[-1,0,0,0],[0,1,0,0],[0,0,1,0],[0,0,0,1]])\n",
    "U_w"
   ]
  },
  {
   "cell_type": "code",
   "execution_count": 95,
   "id": "11a0d0b0",
   "metadata": {},
   "outputs": [
    {
     "data": {
      "text/latex": [
       "Quantum object: dims = [[2, 4], [2, 4]], shape = (8, 8), type = oper, isherm = True\\begin{equation*}\\left(\\begin{array}{*{11}c}-1.0 & 0.0 & 0.0 & 0.0 & 0.0 & 0.0 & 0.0 & 0.0\\\\0.0 & 1.0 & 0.0 & 0.0 & 0.0 & 0.0 & 0.0 & 0.0\\\\0.0 & 0.0 & 1.0 & 0.0 & 0.0 & 0.0 & 0.0 & 0.0\\\\0.0 & 0.0 & 0.0 & 1.0 & 0.0 & 0.0 & 0.0 & 0.0\\\\0.0 & 0.0 & 0.0 & 0.0 & -1.0 & 0.0 & 0.0 & 0.0\\\\0.0 & 0.0 & 0.0 & 0.0 & 0.0 & 1.0 & 0.0 & 0.0\\\\0.0 & 0.0 & 0.0 & 0.0 & 0.0 & 0.0 & 1.0 & 0.0\\\\0.0 & 0.0 & 0.0 & 0.0 & 0.0 & 0.0 & 0.0 & 1.0\\\\\\end{array}\\right)\\end{equation*}"
      ],
      "text/plain": [
       "Quantum object: dims = [[2, 4], [2, 4]], shape = (8, 8), type = oper, isherm = True\n",
       "Qobj data =\n",
       "[[-1.  0.  0.  0.  0.  0.  0.  0.]\n",
       " [ 0.  1.  0.  0.  0.  0.  0.  0.]\n",
       " [ 0.  0.  1.  0.  0.  0.  0.  0.]\n",
       " [ 0.  0.  0.  1.  0.  0.  0.  0.]\n",
       " [ 0.  0.  0.  0. -1.  0.  0.  0.]\n",
       " [ 0.  0.  0.  0.  0.  1.  0.  0.]\n",
       " [ 0.  0.  0.  0.  0.  0.  1.  0.]\n",
       " [ 0.  0.  0.  0.  0.  0.  0.  1.]]"
      ]
     },
     "execution_count": 95,
     "metadata": {},
     "output_type": "execute_result"
    }
   ],
   "source": [
    "I_2 = Qobj([[1,0],[0,1]])\n",
    "U_w = tensor(I_2, U_w)\n",
    "U_w"
   ]
  },
  {
   "cell_type": "code",
   "execution_count": 96,
   "id": "8a9221c3",
   "metadata": {},
   "outputs": [],
   "source": [
    "def outer_product(s1,s2,num):\n",
    "    #the input state should be ket\n",
    "    dim1 = s1.shape[0]\n",
    "    dim2 = s2.shape[0]\n",
    "    if dim1 == dim2:\n",
    "        sm = [[0,0,0,0],[0,0,0,0],[0,0,0,0],[0,0,0,0]]\n",
    "        #sm = [[0,0,0,0,0,0,0,0],[0,0,0,0,0,0,0,0],[0,0,0,0,0,0,0,0],[0,0,0,0,0,0,0,0],[0,0,0,0,0,0,0,0],[0,0,0,0,0,0,0,0],[0,0,0,0,0,0,0,0],[0,0,0,0,0,0,0,0]]\n",
    "        for i in range(dim1):\n",
    "            for j in range(dim2):\n",
    "                sm[i][j] = 2*num*num\n",
    "                if i == j:\n",
    "                    sm[i][j] = sm[i][j]-1\n",
    "        return(sm)\n",
    "    else:\n",
    "        return(\"dim error\")\n",
    "        "
   ]
  },
  {
   "cell_type": "code",
   "execution_count": 97,
   "id": "9c4e65fd",
   "metadata": {},
   "outputs": [
    {
     "data": {
      "text/latex": [
       "Quantum object: dims = [[4], [4]], shape = (4, 4), type = oper, isherm = True\\begin{equation*}\\left(\\begin{array}{*{11}c}-0.500 & 0.500 & 0.500 & 0.500\\\\0.500 & -0.500 & 0.500 & 0.500\\\\0.500 & 0.500 & -0.500 & 0.500\\\\0.500 & 0.500 & 0.500 & -0.500\\\\\\end{array}\\right)\\end{equation*}"
      ],
      "text/plain": [
       "Quantum object: dims = [[4], [4]], shape = (4, 4), type = oper, isherm = True\n",
       "Qobj data =\n",
       "[[-0.5  0.5  0.5  0.5]\n",
       " [ 0.5 -0.5  0.5  0.5]\n",
       " [ 0.5  0.5 -0.5  0.5]\n",
       " [ 0.5  0.5  0.5 -0.5]]"
      ]
     },
     "execution_count": 97,
     "metadata": {},
     "output_type": "execute_result"
    }
   ],
   "source": [
    "sm = outer_product(s,s,0.5)\n",
    "# U_s = Qobj([[0,1,0,0,0,0,0,0],[1,0,0,0,0,0,0,0],[0,0,0,1,0,0,0,0],[0,0,1,0,0,0,0,0],[0,0,0,0,0,1,0,0],[0,0,0,0,1,0,0,0],[0,0,0,0,0,0,0,1],[0,0,0,0,0,0,1,0]])\n",
    "# sm = [[0,0,0,0,0,0,0,0],[0,0,0,0,0,0,0,0],[0,0,0,0,0,0,0,0],[0,0,0,0,0,0,0,0],[0,0,0,0,0,0,0,0],[0,0,0,0,0,0,0,0],[0,0,0,0,0,0,0,0],[0,0,0,0,0,0,0,0]]\n",
    "# s[1]\n",
    "U_s= Qobj(sm)\n",
    "U_s"
   ]
  },
  {
   "cell_type": "code",
   "execution_count": 98,
   "id": "90cdf514",
   "metadata": {},
   "outputs": [
    {
     "data": {
      "text/latex": [
       "Quantum object: dims = [[2, 4], [2, 4]], shape = (8, 8), type = oper, isherm = True\\begin{equation*}\\left(\\begin{array}{*{11}c}-0.500 & 0.500 & 0.500 & 0.500 & 0.0 & 0.0 & 0.0 & 0.0\\\\0.500 & -0.500 & 0.500 & 0.500 & 0.0 & 0.0 & 0.0 & 0.0\\\\0.500 & 0.500 & -0.500 & 0.500 & 0.0 & 0.0 & 0.0 & 0.0\\\\0.500 & 0.500 & 0.500 & -0.500 & 0.0 & 0.0 & 0.0 & 0.0\\\\0.0 & 0.0 & 0.0 & 0.0 & -0.500 & 0.500 & 0.500 & 0.500\\\\0.0 & 0.0 & 0.0 & 0.0 & 0.500 & -0.500 & 0.500 & 0.500\\\\0.0 & 0.0 & 0.0 & 0.0 & 0.500 & 0.500 & -0.500 & 0.500\\\\0.0 & 0.0 & 0.0 & 0.0 & 0.500 & 0.500 & 0.500 & -0.500\\\\\\end{array}\\right)\\end{equation*}"
      ],
      "text/plain": [
       "Quantum object: dims = [[2, 4], [2, 4]], shape = (8, 8), type = oper, isherm = True\n",
       "Qobj data =\n",
       "[[-0.5  0.5  0.5  0.5  0.   0.   0.   0. ]\n",
       " [ 0.5 -0.5  0.5  0.5  0.   0.   0.   0. ]\n",
       " [ 0.5  0.5 -0.5  0.5  0.   0.   0.   0. ]\n",
       " [ 0.5  0.5  0.5 -0.5  0.   0.   0.   0. ]\n",
       " [ 0.   0.   0.   0.  -0.5  0.5  0.5  0.5]\n",
       " [ 0.   0.   0.   0.   0.5 -0.5  0.5  0.5]\n",
       " [ 0.   0.   0.   0.   0.5  0.5 -0.5  0.5]\n",
       " [ 0.   0.   0.   0.   0.5  0.5  0.5 -0.5]]"
      ]
     },
     "execution_count": 98,
     "metadata": {},
     "output_type": "execute_result"
    }
   ],
   "source": [
    "U_s = tensor(I_2, U_s)\n",
    "U_s"
   ]
  },
  {
   "cell_type": "code",
   "execution_count": 99,
   "id": "0e7f74f8",
   "metadata": {
    "scrolled": true
   },
   "outputs": [
    {
     "data": {
      "text/latex": [
       "Quantum object: dims = [[2, 4], [1, 1]], shape = (8, 1), type = ket\\begin{equation*}\\left(\\begin{array}{*{11}c}-0.354\\\\0.354\\\\0.354\\\\0.354\\\\-0.354\\\\0.354\\\\0.354\\\\0.354\\\\\\end{array}\\right)\\end{equation*}"
      ],
      "text/plain": [
       "Quantum object: dims = [[2, 4], [1, 1]], shape = (8, 1), type = ket\n",
       "Qobj data =\n",
       "[[-0.35355339]\n",
       " [ 0.35355339]\n",
       " [ 0.35355339]\n",
       " [ 0.35355339]\n",
       " [-0.35355339]\n",
       " [ 0.35355339]\n",
       " [ 0.35355339]\n",
       " [ 0.35355339]]"
      ]
     },
     "execution_count": 99,
     "metadata": {},
     "output_type": "execute_result"
    }
   ],
   "source": [
    "sw = U_w * s_t\n",
    "sw"
   ]
  },
  {
   "cell_type": "code",
   "execution_count": 100,
   "id": "6c05b0e0",
   "metadata": {
    "scrolled": false
   },
   "outputs": [
    {
     "data": {
      "text/latex": [
       "Quantum object: dims = [[2, 4], [1, 1]], shape = (8, 1), type = ket\\begin{equation*}\\left(\\begin{array}{*{11}c}0.707\\\\0.0\\\\0.0\\\\0.0\\\\0.707\\\\0.0\\\\0.0\\\\0.0\\\\\\end{array}\\right)\\end{equation*}"
      ],
      "text/plain": [
       "Quantum object: dims = [[2, 4], [1, 1]], shape = (8, 1), type = ket\n",
       "Qobj data =\n",
       "[[0.70710678]\n",
       " [0.        ]\n",
       " [0.        ]\n",
       " [0.        ]\n",
       " [0.70710678]\n",
       " [0.        ]\n",
       " [0.        ]\n",
       " [0.        ]]"
      ]
     },
     "execution_count": 100,
     "metadata": {},
     "output_type": "execute_result"
    }
   ],
   "source": [
    "ss = U_s * sw\n",
    "ss"
   ]
  },
  {
   "cell_type": "code",
   "execution_count": 101,
   "id": "5b9d01e9",
   "metadata": {},
   "outputs": [],
   "source": [
    "a1 = ss[0][0][0]\n",
    "a2 = ss[1][0][0]\n",
    "a3 = ss[2][0][0]\n",
    "a4 = ss[3][0][0]\n",
    "a5 = ss[4][0][0]\n",
    "a6 = ss[5][0][0]\n",
    "a7 = ss[6][0][0]\n",
    "a8 = ss[7][0][0]"
   ]
  },
  {
   "cell_type": "code",
   "execution_count": 102,
   "id": "d3342ebf",
   "metadata": {},
   "outputs": [],
   "source": [
    "a1c = np.conj(a1)\n",
    "a2c = np.conj(a2)\n",
    "a3c = np.conj(a3)\n",
    "a4c = np.conj(a4)\n",
    "a5c = np.conj(a5)\n",
    "a6c = np.conj(a6)\n",
    "a7c = np.conj(a7)\n",
    "a8c = np.conj(a8)"
   ]
  },
  {
   "cell_type": "code",
   "execution_count": 103,
   "id": "b79bf5d7",
   "metadata": {},
   "outputs": [],
   "source": [
    "p1 = a1 * a1c\n",
    "p2 = a2 * a2c\n",
    "p3 = a3 * a3c\n",
    "p4 = a4 * a4c\n",
    "p5 = a5 * a5c\n",
    "p6 = a6 * a6c\n",
    "p7 = a7 * a7c\n",
    "p8 = a8 * a8c"
   ]
  },
  {
   "cell_type": "code",
   "execution_count": 104,
   "id": "ca92f1db",
   "metadata": {},
   "outputs": [
    {
     "data": {
      "image/png": "[encoded data removed]",
      "text/plain": [
       "<Figure size 432x288 with 1 Axes>"
      ]
     },
     "metadata": {
      "needs_background": "light"
     },
     "output_type": "display_data"
    }
   ],
   "source": [
    "labels = ['000 ', '001','010','011','100','101','110','111' ]\n",
    "width=0.35\n",
    "prob = [p1,p2,p3,p4,p5,p6,p7,p8]\n",
    "\n",
    "fig, ax=plt.subplots()\n",
    "\n",
    "ax.bar(labels,prob,width,label='probability')\n",
    "ax.set_ylabel('Probability')\n",
    "ax.set_xlabel('State')\n",
    "ax.legend()\n",
    "\n",
    "plt.show()"
   ]
  },
  {
   "cell_type": "code",
   "execution_count": null,
   "id": "ba9f2ab1",
   "metadata": {},
   "outputs": [],
   "source": []
  }
 ],
 "metadata": {
  "kernelspec": {
   "display_name": "Python 3 (ipykernel)",
   "language": "python",
   "name": "python3"
  },
  "language_info": {
   "codemirror_mode": {
    "name": "ipython",
    "version": 3
   },
   "file_extension": ".py",
   "mimetype": "text/x-python",
   "name": "python",
   "nbconvert_exporter": "python",
   "pygments_lexer": "ipython3",
   "version": "3.10.2"
  }
 },
 "nbformat": 4,
 "nbformat_minor": 5
}
