{
 "cells": [
  {
   "cell_type": "code",
   "execution_count": 1,
   "id": "0c2fb618",
   "metadata": {},
   "outputs": [],
   "source": [
    "from qutip import *\n",
    "from numpy import pi\n",
    "import numpy as np\n",
    "import matplotlib.pyplot as plt"
   ]
  },
  {
   "cell_type": "code",
   "execution_count": 2,
   "id": "27a46438",
   "metadata": {},
   "outputs": [],
   "source": [
    "def oracle(x,dim):\n",
    "    array = [ ]\n",
    "    if x>dim:\n",
    "        return(\"dim error: dim should greater or equal to x\")\n",
    "    for i in range(dim):\n",
    "        if i+1==x:\n",
    "            array.append([1])\n",
    "        else:\n",
    "            array.append([0])\n",
    "    return(array)\n",
    "\n",
    "def diffusor_construct(s):\n",
    "    #the input state should be ket\n",
    "    sm = [ ]\n",
    "    dim = s.shape[0]\n",
    "    for i in range(dim):\n",
    "        numi = s[i][0][0]\n",
    "        sm.append([ ])\n",
    "        for j in range(dim):\n",
    "            numj = s[j][0][0]\n",
    "            sm[i].append(2*np.conj(numi)*numj)\n",
    "            if i == j:\n",
    "                sm[i][j] = sm[i][j]-1\n",
    "    return(sm)"
   ]
  },
  {
   "cell_type": "code",
   "execution_count": 38,
   "id": "cc315adb",
   "metadata": {},
   "outputs": [],
   "source": [
    "w = 1 #Hamming weight\n",
    "length = 7 #max is 7\n",
    "\n",
    "R1 = [ ]\n",
    "dim_R1 = 2**(length*w)\n",
    "N1 = 1/np.sqrt(dim_R1)\n",
    "\n",
    "for i in range(dim_R1):\n",
    "    R1.append(Qobj(oracle(i+1,dim_R1)))\n",
    "\n",
    "R2 = [ ]\n",
    "dim_R2 = 2**(length*w)\n",
    "N2 = 1/np.sqrt(dim_R2)\n",
    "\n",
    "for i in range(dim_R2):\n",
    "    R2.append(Qobj(oracle(i+1,dim_R2)))\n",
    "    \n",
    "index_range = range(2**(length*w))\n",
    "target_position = []\n",
    "for k in index_range:\n",
    "    target_position.append(k*dim_R2 + k)"
   ]
  },
  {
   "cell_type": "code",
   "execution_count": 39,
   "id": "633a4b7a",
   "metadata": {},
   "outputs": [
    {
     "ename": "MemoryError",
     "evalue": "Unable to allocate 16.0 GiB for an array with shape (65536, 65536) and data type int32",
     "output_type": "error",
     "traceback": [
      "\u001b[1;31m---------------------------------------------------------------------------\u001b[0m",
      "\u001b[1;31mMemoryError\u001b[0m                               Traceback (most recent call last)",
      "\u001b[1;32m<ipython-input-39-4ea2db3b7f0b>\u001b[0m in \u001b[0;36m<module>\u001b[1;34m\u001b[0m\n\u001b[0;32m     10\u001b[0m         \u001b[1;32melse\u001b[0m\u001b[1;33m:\u001b[0m\u001b[1;33m\u001b[0m\u001b[1;33m\u001b[0m\u001b[0m\n\u001b[0;32m     11\u001b[0m             \u001b[0minversor\u001b[0m\u001b[1;33m[\u001b[0m\u001b[0mi\u001b[0m\u001b[1;33m]\u001b[0m\u001b[1;33m.\u001b[0m\u001b[0mappend\u001b[0m\u001b[1;33m(\u001b[0m\u001b[1;36m0\u001b[0m\u001b[1;33m)\u001b[0m\u001b[1;33m\u001b[0m\u001b[1;33m\u001b[0m\u001b[0m\n\u001b[1;32m---> 12\u001b[1;33m \u001b[0minversor\u001b[0m \u001b[1;33m=\u001b[0m \u001b[0mQobj\u001b[0m\u001b[1;33m(\u001b[0m\u001b[0minversor\u001b[0m\u001b[1;33m)\u001b[0m\u001b[1;33m\u001b[0m\u001b[1;33m\u001b[0m\u001b[0m\n\u001b[0m\u001b[0;32m     13\u001b[0m \u001b[1;33m\u001b[0m\u001b[0m\n\u001b[0;32m     14\u001b[0m \u001b[0mR12\u001b[0m \u001b[1;33m=\u001b[0m \u001b[1;36m0\u001b[0m\u001b[1;33m\u001b[0m\u001b[1;33m\u001b[0m\u001b[0m\n",
      "\u001b[1;32mD:\\useful tools\\anaconda\\lib\\site-packages\\qutip\\qobj.py\u001b[0m in \u001b[0;36m__init__\u001b[1;34m(self, inpt, dims, shape, type, isherm, copy, fast, superrep, isunitary)\u001b[0m\n\u001b[0;32m    281\u001b[0m         \u001b[1;32melif\u001b[0m \u001b[0misinstance\u001b[0m\u001b[1;33m(\u001b[0m\u001b[0minpt\u001b[0m\u001b[1;33m,\u001b[0m \u001b[0mlist\u001b[0m\u001b[1;33m)\u001b[0m \u001b[1;32mor\u001b[0m \u001b[0misinstance\u001b[0m\u001b[1;33m(\u001b[0m\u001b[0minpt\u001b[0m\u001b[1;33m,\u001b[0m \u001b[0mtuple\u001b[0m\u001b[1;33m)\u001b[0m\u001b[1;33m:\u001b[0m\u001b[1;33m\u001b[0m\u001b[1;33m\u001b[0m\u001b[0m\n\u001b[0;32m    282\u001b[0m             \u001b[1;31m# case where input is a list\u001b[0m\u001b[1;33m\u001b[0m\u001b[1;33m\u001b[0m\u001b[1;33m\u001b[0m\u001b[0m\n\u001b[1;32m--> 283\u001b[1;33m             \u001b[0mdata\u001b[0m \u001b[1;33m=\u001b[0m \u001b[0mnp\u001b[0m\u001b[1;33m.\u001b[0m\u001b[0marray\u001b[0m\u001b[1;33m(\u001b[0m\u001b[0minpt\u001b[0m\u001b[1;33m)\u001b[0m\u001b[1;33m\u001b[0m\u001b[1;33m\u001b[0m\u001b[0m\n\u001b[0m\u001b[0;32m    284\u001b[0m             \u001b[1;32mif\u001b[0m \u001b[0mlen\u001b[0m\u001b[1;33m(\u001b[0m\u001b[0mdata\u001b[0m\u001b[1;33m.\u001b[0m\u001b[0mshape\u001b[0m\u001b[1;33m)\u001b[0m \u001b[1;33m==\u001b[0m \u001b[1;36m1\u001b[0m\u001b[1;33m:\u001b[0m\u001b[1;33m\u001b[0m\u001b[1;33m\u001b[0m\u001b[0m\n\u001b[0;32m    285\u001b[0m                 \u001b[1;31m# if list has only one dimension (i.e [5,4])\u001b[0m\u001b[1;33m\u001b[0m\u001b[1;33m\u001b[0m\u001b[1;33m\u001b[0m\u001b[0m\n",
      "\u001b[1;31mMemoryError\u001b[0m: Unable to allocate 16.0 GiB for an array with shape (65536, 65536) and data type int32"
     ]
    }
   ],
   "source": [
    "inversor = [ ]\n",
    "for i in range(dim_R1*dim_R2):\n",
    "    inversor.append([ ])\n",
    "    for j in range(dim_R1*dim_R2):\n",
    "        if i==j:\n",
    "            if j in target_position:     #do the inversion on the well-constructed states in the direct product state\n",
    "                inversor[i].append(-1)\n",
    "            else:\n",
    "                inversor[i].append(1)\n",
    "        else:\n",
    "            inversor[i].append(0)\n",
    "inversor = Qobj(inversor)\n",
    "\n",
    "R12 = 0\n",
    "for i in range(dim_R1):\n",
    "    for j in range(dim_R2):\n",
    "        R12 = R12 + tensor(R1[i],R2[j])\n",
    "R12 = N1*N2*R12\n",
    "state_s = R12\n",
    "diffusor = Qobj(diffusor_construct(state_s))\n",
    "state_s.dims = [[state_s.dims[0][0]*state_s.dims[0][1]],[1]]"
   ]
  },
  {
   "cell_type": "code",
   "execution_count": null,
   "id": "74d91bec",
   "metadata": {},
   "outputs": [],
   "source": [
    "# main iteration\n",
    "p1 = []\n",
    "p2 = []\n",
    "\n",
    "num_iteration = int((dim_R1+dim_R2)**(1/2))\n",
    "for i in range(1,num_iteration+1):\n",
    "    s = state_s\n",
    "    for dummy in range(i):\n",
    "        s = diffusor * inversor * s\n",
    "    # state_s = diffusor * inversor * state_s\n",
    "    p1.append(s[0][0][0]* np.conj(s[0][0][0]))\n",
    "    p2.append(s[1][0][0]* np.conj(s[1][0][0]))"
   ]
  },
  {
   "cell_type": "code",
   "execution_count": null,
   "id": "d4d430df",
   "metadata": {},
   "outputs": [],
   "source": [
    "p1"
   ]
  },
  {
   "cell_type": "code",
   "execution_count": null,
   "id": "240f046c",
   "metadata": {},
   "outputs": [],
   "source": [
    "p2"
   ]
  },
  {
   "cell_type": "code",
   "execution_count": 38,
   "id": "a0472c55",
   "metadata": {},
   "outputs": [
    {
     "name": "stdout",
     "output_type": "stream",
     "text": [
      "[[(0.060082435607910156+0j)], [(0.00016117095947265625+0j)]]\n"
     ]
    }
   ],
   "source": [
    "labels = ['$|0,0>$ ', '$|0,1>$' ]\n",
    "width=0.35\n",
    "prob = [p1,p2]\n",
    "\n",
    "print(prob)\n",
    "\n",
    "# fig, ax=plt.subplots()\n",
    "\n",
    "# ax.bar(labels,prob,width,label='probability')\n",
    "# ax.set_ylabel('Probability')\n",
    "# ax.set_xlabel('State')\n",
    "# ax.legend()\n",
    "\n",
    "# plt.show()"
   ]
  },
  {
   "cell_type": "code",
   "execution_count": 8,
   "id": "cf93a8f2",
   "metadata": {},
   "outputs": [],
   "source": [
    "# # main iteration\n",
    "# p1 = []\n",
    "# p2 = []\n",
    "\n",
    "# for k in range(3):\n",
    "\n",
    "#     #the searching state\n",
    "#     R12 = 0\n",
    "#     for i in range(16):\n",
    "#         for j in range(32):\n",
    "#             if [i,j] == target_set[i]:\n",
    "#                 R12 = R12 + phase[k]*tensor(R1[j],R2[i])\n",
    "#             else:\n",
    "#                 R12 = R12 + tensor(R1[j],R2[i])\n",
    "#     R12 = N1*N2*R12\n",
    "\n",
    "#     ss= u_s * u_w * R12\n",
    "#     dummy=2\n",
    "#     for i in range(dummy):\n",
    "#         ss = u_s * u_w *ss\n",
    "\n",
    "#     p1.append(ss[0][0][0]* np.conj(ss[0][0][0]))\n",
    "#     p2.append(ss[1][0][0]* np.conj(ss[1][0][0]))"
   ]
  },
  {
   "cell_type": "code",
   "execution_count": 10,
   "id": "af295f27",
   "metadata": {},
   "outputs": [
    {
     "data": {
      "text/plain": [
       "Text(0, 0.5, 'Probability')"
      ]
     },
     "execution_count": 10,
     "metadata": {},
     "output_type": "execute_result"
    },
    {
     "data": {
      "image/png": "[encoded data removed]",
      "text/plain": [
       "<Figure size 432x288 with 1 Axes>"
      ]
     },
     "metadata": {
      "needs_background": "light"
     },
     "output_type": "display_data"
    }
   ],
   "source": [
    "# Declaring the figure or the plot (y, x) or (width, height)\n",
    "# plt.figure(figsize=[10, 10])\n",
    "# Data to be plotted\n",
    "\n",
    "\n",
    "plt.subplot(121)\n",
    "x_axis = [100, 400, 700]\n",
    "\n",
    "# Using numpy to group 3 different data with bars\n",
    "# Passing the parameters to the bar function, this is the main function which creates the bar plot\n",
    "# Using X now to align the bars side by side\n",
    "X = np.arange(len(x_axis))\n",
    "\n",
    "plt.bar(X, p1, color = '#4232F5', width = 0.25)\n",
    "plt.bar(X + 0.25, p2, color = '#32CAD3', width = 0.25)\n",
    "\n",
    "# Creating the legend of the bars in the plot\n",
    "plt.legend(['$|0,0>$', '$|0,1>$'])\n",
    "\n",
    "\n",
    "plt.tick_params(length = 6 ,top = True, bottom = True, left = True, right= True)\n",
    "\n",
    "# Overiding the x axis with the country names\n",
    "plt.xticks([i + 0.115 for i in range(3)], [r'$\\phi = 0$', r'$\\phi = \\frac{3\\pi}{8}$', r'$\\phi =\\frac{3\\pi}{4} $'])\n",
    "plt.minorticks_on()\n",
    "\n",
    "# Namimg the x and y axis\n",
    "plt.xlabel('Phase angle')\n",
    "plt.ylabel('Probability')\n"
   ]
  },
  {
   "cell_type": "code",
   "execution_count": null,
   "id": "ed90928d",
   "metadata": {},
   "outputs": [],
   "source": []
  }
 ],
 "metadata": {
  "kernelspec": {
   "display_name": "Python 3",
   "language": "python",
   "name": "python3"
  },
  "language_info": {
   "codemirror_mode": {
    "name": "ipython",
    "version": 3
   },
   "file_extension": ".py",
   "mimetype": "text/x-python",
   "name": "python",
   "nbconvert_exporter": "python",
   "pygments_lexer": "ipython3",
   "version": "3.8.8"
  }
 },
 "nbformat": 4,
 "nbformat_minor": 5
}
