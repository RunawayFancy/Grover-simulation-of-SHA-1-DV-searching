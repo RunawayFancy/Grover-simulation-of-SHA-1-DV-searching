{
 "cells": [
  {
   "cell_type": "code",
   "execution_count": 98,
   "id": "7f2d268e",
   "metadata": {},
   "outputs": [],
   "source": [
    "from qutip import *\n",
    "from numpy import pi\n",
    "import numpy as np\n",
    "import matplotlib.pyplot as plt\n",
    "%matplotlib inline"
   ]
  },
  {
   "cell_type": "code",
   "execution_count": 99,
   "id": "2e4c2928",
   "metadata": {},
   "outputs": [],
   "source": [
    "# sta_1 = Qobj([[1],[0],[0],[0]])\n",
    "# sta_2 = Qobj([[0],[1],[0],[0]])\n",
    "# sta_3 = Qobj([[0],[0],[1],[0]])\n",
    "# sta_4 = Qobj([[0],[0],[0],[1]])"
   ]
  },
  {
   "cell_type": "code",
   "execution_count": 100,
   "id": "149b7890",
   "metadata": {},
   "outputs": [],
   "source": [
    "# s_1 = Qobj([[1],[0]])\n",
    "# s_2 = Qobj([[0],[1]])"
   ]
  },
  {
   "cell_type": "code",
   "execution_count": 101,
   "id": "9f069e39",
   "metadata": {},
   "outputs": [],
   "source": [
    "N = 1/np.sqrt(8)\n",
    "N1 = 1/np.sqrt(2)\n",
    "N2 = 1/2\n",
    "\n",
    "I_2 = Qobj([[1,0],[0,1]])\n",
    "# z = complex(0,0.25*np.pi)\n",
    "\n",
    "result = []\n",
    "plot_source1 = []\n",
    "plot_source2 = []\n",
    "variables = []"
   ]
  },
  {
   "cell_type": "code",
   "execution_count": 102,
   "id": "15cc88e5",
   "metadata": {},
   "outputs": [],
   "source": [
    "def outer_product(s1,s2):\n",
    "    #the input state should be ket\n",
    "    dim1 = s1.shape[0]\n",
    "    dim2 = s2.shape[0]\n",
    "    if dim1 == dim2:\n",
    "        sm = [[0,0,0,0],[0,0,0,0],[0,0,0,0],[0,0,0,0]]\n",
    "        #sm = [[0,0,0,0,0,0,0,0],[0,0,0,0,0,0,0,0],[0,0,0,0,0,0,0,0],[0,0,0,0,0,0,0,0],[0,0,0,0,0,0,0,0],[0,0,0,0,0,0,0,0],[0,0,0,0,0,0,0,0],[0,0,0,0,0,0,0,0]]\n",
    "        for i in range(dim1):\n",
    "            for j in range(dim2):\n",
    "                sm[i][j] = 2*s1[i][0][0]*np.conj(s2[j][0][0])\n",
    "                if i == j:\n",
    "                    sm[i][j] = sm[i][j]-1\n",
    "        return(sm)\n",
    "    else:\n",
    "        return(\"dim error\")\n",
    "        "
   ]
  },
  {
   "cell_type": "code",
   "execution_count": 103,
   "id": "97d4b483",
   "metadata": {},
   "outputs": [],
   "source": [
    "for l in range(100):\n",
    "    result.append([ ])\n",
    "    z = complex(0,0.01*l*np.pi)\n",
    "    phase = np.exp(z)\n",
    "    \n",
    "    sta_1 = Qobj([[1],[0],[0],[0]])\n",
    "    sta_2 = Qobj([[0],[1],[0],[0]])\n",
    "    sta_3 = Qobj([[0],[0],[1],[0]])\n",
    "    sta_4 = Qobj([[0],[0],[0],[1]])\n",
    "    \n",
    "    s_1 = Qobj([[1],[0]])\n",
    "    s_2 = Qobj([[0],[1]])\n",
    "    \n",
    "    st_1 =N*phase *tensor(s_1,sta_1)\n",
    "    st_2 =N*phase *tensor(s_2,sta_1)\n",
    "    st_3 =N* tensor(s_1,sta_2)\n",
    "    st_4 =N* tensor(s_2,sta_2)\n",
    "    st_5 =N* tensor(s_1,sta_3)\n",
    "    st_6 =N* tensor(s_2,sta_3)\n",
    "    st_7 =N* tensor(s_1,sta_4)\n",
    "    st_8 =N* tensor(s_2,sta_4 )\n",
    "    \n",
    "    R_1 = N1 *(s_1 + s_2)\n",
    "    s = N2*(sta_1+sta_2+sta_3+sta_4)\n",
    "    s_t = st_1+st_2+st_3+st_4+st_5+st_6+st_7+st_8\n",
    "    \n",
    "    U_w = Qobj([[-1,0,0,0],[0,1,0,0],[0,0,1,0],[0,0,0,1]])\n",
    "    U_w = tensor(I_2, U_w)\n",
    "    \n",
    "    sm = outer_product(s,s)\n",
    "    U_s= Qobj(sm)\n",
    "    U_s = tensor(I_2, U_s)\n",
    "    \n",
    "    sw = U_w * s_t\n",
    "    ss = U_s * sw\n",
    "    \n",
    "    a1 = ss[0][0][0]\n",
    "    a2 = ss[1][0][0]\n",
    "    a3 = ss[2][0][0]\n",
    "    a4 = ss[3][0][0]\n",
    "    a5 = ss[4][0][0]\n",
    "    a6 = ss[5][0][0]\n",
    "    a7 = ss[6][0][0]\n",
    "    a8 = ss[7][0][0]\n",
    "    \n",
    "    a1c = np.conj(a1)\n",
    "    a2c = np.conj(a2)\n",
    "    a3c = np.conj(a3)\n",
    "    a4c = np.conj(a4)\n",
    "    a5c = np.conj(a5)\n",
    "    a6c = np.conj(a6)\n",
    "    a7c = np.conj(a7)\n",
    "    a8c = np.conj(a8)\n",
    "    \n",
    "    p1 = a1 * a1c\n",
    "    p2 = a2 * a2c\n",
    "    p3 = a3 * a3c\n",
    "    p4 = a4 * a4c\n",
    "    p5 = a5 * a5c\n",
    "    p6 = a6 * a6c\n",
    "    p7 = a7 * a7c\n",
    "    p8 = a8 * a8c\n",
    "    \n",
    "    result[l].append(p1)\n",
    "    result[l].append(p2)\n",
    "    result[l].append(p3)\n",
    "    result[l].append(p4)\n",
    "    result[l].append(p5)\n",
    "    result[l].append(p6)\n",
    "    result[l].append(p7)\n",
    "    result[l].append(p8)\n",
    "    \n",
    "    plot_source1.append(p1)\n",
    "    plot_source2.append(p2)\n",
    "    variables.append(l*0.01*np.pi)"
   ]
  },
  {
   "cell_type": "code",
   "execution_count": 114,
   "id": "8bf48e6f",
   "metadata": {},
   "outputs": [
    {
     "data": {
      "image/png": "[encoded data removed]",
      "text/plain": [
       "<Figure size 432x288 with 1 Axes>"
      ]
     },
     "metadata": {
      "needs_background": "light"
     },
     "output_type": "display_data"
    }
   ],
   "source": [
    "l1, = plt.plot(variables,plot_source1)\n",
    "l2, = plt.plot(variables, plot_source2,color='red')\n",
    "plt.legend(handles = [l1,l2],labels=['marked state','residual state'],loc='best')\n",
    "plt.axis([0,np.pi,0,0.6])\n",
    "plt.xlabel('$\\phi$ (rad)')\n",
    "plt.ylabel('Probability')\n",
    "plt.grid(True)\n",
    "\n",
    "\n",
    "plt.show()"
   ]
  },
  {
   "cell_type": "code",
   "execution_count": null,
   "id": "9f0427ed",
   "metadata": {},
   "outputs": [],
   "source": []
  },
  {
   "cell_type": "code",
   "execution_count": null,
   "id": "93120b93",
   "metadata": {},
   "outputs": [],
   "source": []
  },
  {
   "cell_type": "code",
   "execution_count": null,
   "id": "b888605f",
   "metadata": {},
   "outputs": [],
   "source": []
  },
  {
   "cell_type": "code",
   "execution_count": null,
   "id": "fdb342c4",
   "metadata": {},
   "outputs": [],
   "source": []
  },
  {
   "cell_type": "code",
   "execution_count": null,
   "id": "dbe21bf2",
   "metadata": {},
   "outputs": [],
   "source": []
  }
 ],
 "metadata": {
  "kernelspec": {
   "display_name": "Python 3",
   "language": "python",
   "name": "python3"
  },
  "language_info": {
   "codemirror_mode": {
    "name": "ipython",
    "version": 3
   },
   "file_extension": ".py",
   "mimetype": "text/x-python",
   "name": "python",
   "nbconvert_exporter": "python",
   "pygments_lexer": "ipython3",
   "version": "3.8.8"
  }
 },
 "nbformat": 4,
 "nbformat_minor": 5
}
